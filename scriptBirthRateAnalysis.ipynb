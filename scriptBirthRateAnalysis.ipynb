{
 "cells": [
  {
   "cell_type": "code",
   "execution_count": 1,
   "id": "60e8b63e-98a8-4c66-9b25-9cc8a6d47f22",
   "metadata": {},
   "outputs": [],
   "source": [
    "import pandas as pd"
   ]
  },
  {
   "cell_type": "code",
   "execution_count": 38,
   "id": "b8819129-731f-4da0-a282-67d552903c01",
   "metadata": {},
   "outputs": [],
   "source": [
    "raw_births = pd.read_csv(\"births.csv\")"
   ]
  },
  {
   "cell_type": "code",
   "execution_count": 39,
   "id": "fba5f911-5b81-4390-8f4d-9965c5051aef",
   "metadata": {},
   "outputs": [
    {
     "name": "stdout",
     "output_type": "stream",
     "text": [
      "   year  month  day gender  births\n",
      "0  1969      1  1.0      F    4046\n",
      "1  1969      1  1.0      M    4440\n",
      "2  1969      1  2.0      F    4454\n",
      "3  1969      1  2.0      M    4548\n",
      "4  1969      1  3.0      F    4548\n"
     ]
    }
   ],
   "source": [
    "print(raw_births.head())"
   ]
  },
  {
   "cell_type": "code",
   "execution_count": 40,
   "id": "132117f9-c4d1-45e9-9fed-bc1b0a73814d",
   "metadata": {},
   "outputs": [
    {
     "data": {
      "text/plain": [
       "15.0    480\n",
       "11.0    480\n",
       "16.0    480\n",
       "27.0    480\n",
       "2.0     480\n",
       "13.0    480\n",
       "12.0    480\n",
       "22.0    480\n",
       "1.0     480\n",
       "24.0    480\n",
       "14.0    480\n",
       "7.0     480\n",
       "23.0    480\n",
       "8.0     480\n",
       "6.0     480\n",
       "10.0    480\n",
       "21.0    480\n",
       "9.0     480\n",
       "4.0     480\n",
       "25.0    480\n",
       "26.0    480\n",
       "28.0    480\n",
       "17.0    480\n",
       "19.0    480\n",
       "20.0    480\n",
       "5.0     480\n",
       "18.0    480\n",
       "3.0     480\n",
       "29.0    464\n",
       "30.0    450\n",
       "31.0    363\n",
       "99.0    350\n",
       "Name: day, dtype: int64"
      ]
     },
     "execution_count": 40,
     "metadata": {},
     "output_type": "execute_result"
    }
   ],
   "source": [
    "raw_births[\"day\"].value_counts()"
   ]
  },
  {
   "cell_type": "code",
   "execution_count": 41,
   "id": "0ea63e2f-9451-48c1-ba62-4cda65954d89",
   "metadata": {},
   "outputs": [],
   "source": [
    "births = raw_births\n",
    "births['day'].fillna(0, inplace=True) \n",
    "births['day'] = births['day'].astype(int)"
   ]
  },
  {
   "cell_type": "code",
   "execution_count": 42,
   "id": "014ed26f-b97a-4604-93e2-57f4a24b0af0",
   "metadata": {},
   "outputs": [],
   "source": [
    "births['decade'] = 10 * (births['year'] // 10)"
   ]
  },
  {
   "cell_type": "code",
   "execution_count": 43,
   "id": "9a02e921-bcd5-422a-874d-a6ab32c0f78f",
   "metadata": {},
   "outputs": [
    {
     "data": {
      "text/html": [
       "<div>\n",
       "<style scoped>\n",
       "    .dataframe tbody tr th:only-of-type {\n",
       "        vertical-align: middle;\n",
       "    }\n",
       "\n",
       "    .dataframe tbody tr th {\n",
       "        vertical-align: top;\n",
       "    }\n",
       "\n",
       "    .dataframe thead th {\n",
       "        text-align: right;\n",
       "    }\n",
       "</style>\n",
       "<table border=\"1\" class=\"dataframe\">\n",
       "  <thead>\n",
       "    <tr style=\"text-align: right;\">\n",
       "      <th>gender</th>\n",
       "      <th>F</th>\n",
       "      <th>M</th>\n",
       "    </tr>\n",
       "    <tr>\n",
       "      <th>decade</th>\n",
       "      <th></th>\n",
       "      <th></th>\n",
       "    </tr>\n",
       "  </thead>\n",
       "  <tbody>\n",
       "    <tr>\n",
       "      <th>1960</th>\n",
       "      <td>1753634</td>\n",
       "      <td>1846572</td>\n",
       "    </tr>\n",
       "    <tr>\n",
       "      <th>1970</th>\n",
       "      <td>16263075</td>\n",
       "      <td>17121550</td>\n",
       "    </tr>\n",
       "    <tr>\n",
       "      <th>1980</th>\n",
       "      <td>18310351</td>\n",
       "      <td>19243452</td>\n",
       "    </tr>\n",
       "    <tr>\n",
       "      <th>1990</th>\n",
       "      <td>19479454</td>\n",
       "      <td>20420553</td>\n",
       "    </tr>\n",
       "    <tr>\n",
       "      <th>2000</th>\n",
       "      <td>18229309</td>\n",
       "      <td>19106428</td>\n",
       "    </tr>\n",
       "  </tbody>\n",
       "</table>\n",
       "</div>"
      ],
      "text/plain": [
       "gender         F         M\n",
       "decade                    \n",
       "1960     1753634   1846572\n",
       "1970    16263075  17121550\n",
       "1980    18310351  19243452\n",
       "1990    19479454  20420553\n",
       "2000    18229309  19106428"
      ]
     },
     "execution_count": 43,
     "metadata": {},
     "output_type": "execute_result"
    }
   ],
   "source": [
    "births.pivot_table('births', index='decade', columns='gender', aggfunc='sum')"
   ]
  },
  {
   "cell_type": "code",
   "execution_count": 44,
   "id": "1883e858-a773-439e-b146-430e92eff0fc",
   "metadata": {},
   "outputs": [
    {
     "name": "stdout",
     "output_type": "stream",
     "text": [
      "   year  month  day gender  births  decade\n",
      "0  1969      1    1      F    4046    1960\n",
      "1  1969      1    1      M    4440    1960\n",
      "2  1969      1    2      F    4454    1960\n",
      "3  1969      1    2      M    4548    1960\n",
      "4  1969      1    3      F    4548    1960\n"
     ]
    }
   ],
   "source": [
    "print(births.head())"
   ]
  },
  {
   "cell_type": "code",
   "execution_count": 45,
   "id": "de4cf388-e9f2-4421-9523-5db09804dd37",
   "metadata": {},
   "outputs": [
    {
     "data": {
      "text/plain": [
       "0     480\n",
       "23    480\n",
       "7     480\n",
       "22    480\n",
       "14    480\n",
       "6     480\n",
       "21    480\n",
       "13    480\n",
       "5     480\n",
       "28    480\n",
       "20    480\n",
       "12    480\n",
       "4     480\n",
       "8     480\n",
       "27    480\n",
       "19    480\n",
       "11    480\n",
       "3     480\n",
       "26    480\n",
       "18    480\n",
       "10    480\n",
       "2     480\n",
       "25    480\n",
       "17    480\n",
       "9     480\n",
       "1     480\n",
       "24    480\n",
       "16    480\n",
       "15    480\n",
       "29    464\n",
       "30    450\n",
       "31    363\n",
       "99    350\n",
       "Name: day, dtype: int64"
      ]
     },
     "execution_count": 45,
     "metadata": {},
     "output_type": "execute_result"
    }
   ],
   "source": [
    "births[\"day\"].value_counts()"
   ]
  }
 ],
 "metadata": {
  "kernelspec": {
   "display_name": "Python 3",
   "language": "python",
   "name": "python3"
  },
  "language_info": {
   "codemirror_mode": {
    "name": "ipython",
    "version": 3
   },
   "file_extension": ".py",
   "mimetype": "text/x-python",
   "name": "python",
   "nbconvert_exporter": "python",
   "pygments_lexer": "ipython3",
   "version": "3.8.8"
  }
 },
 "nbformat": 4,
 "nbformat_minor": 5
}
